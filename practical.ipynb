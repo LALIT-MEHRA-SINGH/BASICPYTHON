{
  "nbformat": 4,
  "nbformat_minor": 0,
  "metadata": {
    "colab": {
      "provenance": []
    },
    "kernelspec": {
      "name": "python3",
      "display_name": "Python 3"
    },
    "language_info": {
      "name": "python"
    }
  },
  "cells": [
    {
      "cell_type": "code",
      "source": [
        "#1. Write a Python program to print \"Hello, World!\n",
        "\n",
        "#answer 1\n",
        "print(\"hello world\")"
      ],
      "metadata": {
        "id": "-snW7xrUcP2T"
      },
      "execution_count": null,
      "outputs": []
    },
    {
      "cell_type": "code",
      "source": [
        "# 2. Write a Python program that displays your name and age\n",
        "\n",
        "# asnwers 2\n",
        "\n",
        "name=\"Rahul Singh\"\n",
        "age=25\n",
        "print(name)\n",
        "print(age)"
      ],
      "metadata": {
        "id": "RdHuks4jcqeK"
      },
      "execution_count": null,
      "outputs": []
    },
    {
      "cell_type": "code",
      "execution_count": null,
      "metadata": {
        "id": "zpD7buFFa7T1"
      },
      "outputs": [],
      "source": [
        "# 3. Write code to print all the pre-defined keywords in Python using the keyword librar?\n",
        "\n",
        "#answer 3\n",
        "\n",
        "help(\"keywords\")"
      ]
    },
    {
      "cell_type": "code",
      "source": [
        "# 4. Here’s a Python program to check if a given word is a Python keyword?\n",
        "\n",
        "#ans 4\n",
        "\n",
        "import keyword\n",
        "word = input(\"Enter a word to check if it's a Python keyword: \")\n",
        "if keyword.iskeyword(word):\n",
        "    print(\"is a Python keyword.\")\n",
        "else:\n",
        "    print(\"is not a Python keyword.\")\n"
      ],
      "metadata": {
        "id": "ziBY4C-7kMSv"
      },
      "execution_count": null,
      "outputs": []
    },
    {
      "cell_type": "code",
      "source": [
        "\"\"\"  5. Create a list and tuple in Python, and demonstrate how attempting to\n",
        "    change an element works differently for each ?\"\"\"\n",
        "\n",
        "#ANS 5\n",
        "\n",
        "# Create a list\n",
        "my_list = [1, 2, 3]\n",
        "my_list[1] = 20  # This works because lists are mutable\n",
        "print(my_list)\n",
        "\n",
        "\n",
        "# Create a Tuple\n",
        "my_tuple = (1, 2, 3)\n",
        "\n",
        "my_tuple[1] = 20 # This not works because Tuple are immutable\n",
        "print (my_tuple)\n"
      ],
      "metadata": {
        "id": "LDPQY5Yb0pUJ"
      },
      "execution_count": null,
      "outputs": []
    },
    {
      "cell_type": "code",
      "source": [
        "# 6. Write a function to demonstrate the behavior of mutable and immutable argument?\n",
        "\n",
        "#ans 6\n",
        "\n",
        "def demonstrate_mutable_immutable():\n",
        "    # Immutable argument example\n",
        "    def modify_immutable(value):\n",
        "        print(f\"Initial immutable value: {value}\")\n",
        "        value += 10  # This creates a new object\n",
        "        print(f\"Modified immutable value inside function: {value}\")\n",
        "\n",
        "    # Mutable argument example\n",
        "    def modify_mutable(my_list):\n",
        "        print(f\"Initial mutable value: {my_list}\")\n",
        "        my_list.append(4)  # This modifies the existing object\n",
        "        print(f\"Modified mutable value inside function: {my_list}\")\n",
        "\n",
        "    # Test immutable type\n",
        "    num = 5\n",
        "    print(\"\\n--- Immutable Type (int) Example ---\")\n",
        "    print(f\"Value before function call: {num}\")\n",
        "    modify_immutable(num)\n",
        "    print(f\"Value after function call: {num}\")  # Value remains unchanged\n",
        "\n",
        "    # Test mutable type\n",
        "    my_list = [1, 2, 3]\n",
        "    print(\"\\n--- Mutable Type (list) Example ---\")\n",
        "    print(f\"Value before function call: {my_list}\")\n",
        "    modify_mutable(my_list)\n",
        "    print(f\"Value after function call: {my_list}\")  # Value is changed\n",
        "\n",
        "# Call the demonstration function\n",
        "demonstrate_mutable_immutable()\n",
        "\n",
        "\n",
        "\n",
        "\n",
        "\n",
        "\n",
        "\n",
        "\n",
        "\n",
        "\n",
        "\n",
        "\n",
        "\n",
        "\n",
        "\n",
        "\n",
        "\n",
        "\n"
      ],
      "metadata": {
        "id": "ktpMk1a1fQDv",
        "collapsed": true
      },
      "execution_count": null,
      "outputs": []
    },
    {
      "cell_type": "code",
      "source": [
        "# 7. Write a function to demonstrate the behavior of mutable and immutable argument?\n",
        "\n",
        "#ans 7\n",
        "\n",
        "def demonstrate_mutable_immutable():\n",
        "    # Immutable argument example\n",
        "    def modify_immutable(value):\n",
        "        print(f\"Initial immutable value: {value}\")\n",
        "        value += 10  # This creates a new object\n",
        "        print(f\"Modified immutable value inside function: {value}\")\n",
        "\n",
        "    # Mutable argument example\n",
        "    def modify_mutable(my_list):\n",
        "        print(f\"Initial mutable value: {my_list}\")\n",
        "        my_list.append(4)  # This modifies the existing object\n",
        "        print(f\"Modified mutable value inside function: {my_list}\")\n",
        "\n",
        "    # Test immutable type\n",
        "    num = 5\n",
        "    print(\"\\n--- Immutable Type (int) Example ---\")\n",
        "    print(f\"Value before function call: {num}\")\n",
        "    modify_immutable(num)\n",
        "    print(f\"Value after function call: {num}\")  # Value remains unchanged\n",
        "\n",
        "    # Test mutable type\n",
        "    my_list = [1, 2, 3]\n",
        "    print(\"\\n--- Mutable Type (list) Example ---\")\n",
        "    print(f\"Value before function call: {my_list}\")\n",
        "    modify_mutable(my_list)\n",
        "    print(f\"Value after function call: {my_list}\")  # Value is changed\n",
        "\n",
        "# Call the demonstration function\n",
        "demonstrate_mutable_immutable()\n"
      ],
      "metadata": {
        "id": "zDEdTRzj0Cr6"
      },
      "execution_count": null,
      "outputs": []
    },
    {
      "cell_type": "code",
      "source": [
        "#8. Write a program to demonstrate the use of logical operators?\n",
        "\n",
        "\n",
        "# And AND Operator\n",
        "\n",
        "a= 5>8 and 3>5\n",
        "print(a) # Returns True if both conditions are true\n",
        "\n",
        "\n",
        "# Or Operator\n",
        "\n",
        "b= 9>8 or 3>2\n",
        "print(b) #  Returns True if at least one condition is true.\n",
        "\n",
        "\n",
        "\n",
        "# Not Operator\n",
        "\n",
        "c= 1>8 != 3>2\n",
        "print(c)  # Reverses the result (e.g., not True becomes False).\n",
        "\n"
      ],
      "metadata": {
        "id": "qxpTmI8uhU0q"
      },
      "execution_count": null,
      "outputs": []
    },
    {
      "cell_type": "code",
      "source": [
        "'''9.Write a Python program to convert user input from string to integer, float,\n",
        "   and boolean types?'''\n",
        "\n",
        "#ans 9\n",
        "#convert to integer\n",
        "name=\"2\"\n",
        "print(name,type(int(name)))\n",
        "\n",
        "#convert to float\n",
        "name=\"2.5\"\n",
        "print(name,type(float(name)))\n",
        "\n",
        "#convert to boolean\n",
        "a =True\n",
        "print(a,type(a))\n"
      ],
      "metadata": {
        "id": "lVM9xqV8jWIi"
      },
      "execution_count": null,
      "outputs": []
    },
    {
      "cell_type": "code",
      "source": [
        "# 10. Write code to demonstrate type casting with list elements?\n",
        "\n",
        "# ans 10\n",
        "\n",
        "# A list with elements of type string (representing numbers)\n",
        "string_list = [\"1\", \"2\", \"3\", \"4\", \"5\"]\n",
        "\n",
        "# Convert each string to an integer using a list comprehension\n",
        "int_list = [int(item) for item in string_list]\n",
        "\n",
        "# Print both the original list and the new list\n",
        "print(\"Original list (strings):\", string_list)\n",
        "print(\"Converted list (integers):\", int_list)\n",
        "\n",
        "# Another example: Convert integers to floats\n",
        "float_list = [float(item) for item in int_list]\n",
        "print(\"Converted list (floats):\", float_list)\n"
      ],
      "metadata": {
        "id": "7_Fy4pTi5Ej2"
      },
      "execution_count": null,
      "outputs": []
    },
    {
      "cell_type": "code",
      "source": [
        "# 11. Write a program that checks if a number is positive, negative, or zero?\n",
        "\n",
        "# ans 11\n",
        "# Ask the user to enter a number\n",
        "number = float(input(\"Enter a number: \"))\n",
        "\n",
        "# Check if the number is positive, negative, or zero\n",
        "if number > 0:\n",
        "    print(\"The number is positive.\")\n",
        "elif number < 0:\n",
        "    print(\"The number is negative.\")\n",
        "else:\n",
        "    print(\"The number is zero.\")\n"
      ],
      "metadata": {
        "id": "LGWH-94UIDGE"
      },
      "execution_count": null,
      "outputs": []
    },
    {
      "cell_type": "code",
      "source": [
        "# 12.  Write a for loop to print numbers from 1 to 10?\n",
        "\n",
        "# Ans 12  example for loop\n",
        "\n",
        "for number in range(1, 11):\n",
        "    print(number) # Use a for loop to repeat a set of actions\n"
      ],
      "metadata": {
        "id": "HJvF0Wc4PPxp"
      },
      "execution_count": null,
      "outputs": []
    },
    {
      "cell_type": "code",
      "source": [
        "# 13. Write a Python program to find the sum of all even numbers between 1 and 50?\n",
        "\n",
        "# Ans 13\n",
        "\n",
        "# Initialize a variable to store the sum\n",
        "sum_of_evens = 0\n",
        "for number in range(1, 51):\n",
        "    if number % 2 == 0:\n",
        "       sum_of_evens += number\n",
        "print(sum_of_evens)\n"
      ],
      "metadata": {
        "id": "lDiIYekZQ0um"
      },
      "execution_count": null,
      "outputs": []
    },
    {
      "cell_type": "code",
      "source": [
        "# 14. Write a program to reverse a string using a while loop?\n",
        "\n",
        "# Ans 14\n",
        "\n",
        "string_input = input (\"Enter the string: \")\n",
        "for i in range(len(string_input)-1,-1,-1):\n",
        "  print(string_input[i])\n"
      ],
      "metadata": {
        "id": "1k9d-VvhRSgH"
      },
      "execution_count": null,
      "outputs": []
    },
    {
      "cell_type": "code",
      "source": [
        "'''15.Write a Python program to calculate the factorial of a number provided by\n",
        "     the user using a while loop?'''\n",
        "\n",
        "# Ans 15\n",
        "\n",
        "num = int(input(\"Enter a number : \"))\n",
        "fact = 1\n",
        "a = 1\n",
        "while a <= num:\n",
        "    fact = fact * a\n",
        "    a = a + 1\n",
        "print(\"The factorial of \", num, \"is \", fact)\n"
      ],
      "metadata": {
        "id": "Hb8iwlvoV8zU"
      },
      "execution_count": null,
      "outputs": []
    },
    {
      "cell_type": "code",
      "source": [],
      "metadata": {
        "id": "xtqfr77vDyoR"
      },
      "execution_count": null,
      "outputs": []
    }
  ]
}